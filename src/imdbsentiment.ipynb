{
 "cells": [
  {
   "cell_type": "code",
   "execution_count": 7,
   "metadata": {},
   "outputs": [
    {
     "output_type": "stream",
     "name": "stdout",
     "text": "GPU is available\n"
    }
   ],
   "source": [
    "import numpy as np\n",
    "import tensorflow as tf\n",
    "import tensorflow_hub as hub\n",
    "import tensorflow_datasets as tfds\n",
    "\n",
    "print(\"GPU is\", \"available\" if tf.config.experimental.list_physical_devices(\"GPU\") else \"NOT AVAILABLE\")"
   ]
  },
  {
   "cell_type": "code",
   "execution_count": 8,
   "metadata": {},
   "outputs": [
    {
     "output_type": "stream",
     "name": "stdout",
     "text": "\u001b[1mDownloading and preparing dataset imdb_reviews/plain_text/1.0.0 (download: 80.23 MiB, generated: Unknown size, total: 80.23 MiB) to C:\\Users\\micha\\tensorflow_datasets\\imdb_reviews\\plain_text\\1.0.0...\u001b[0m\nDl Completed...: 0 url [00:00, ? url/s]\nDl Completed...:   0%|          | 0/1 [00:00<?, ? url/s]\nDl Completed...:   0%|          | 0/1 [00:00<?, ? url/s]\nDl Size...:   0%|          | 0/80 [00:00<?, ? MiB/s]\u001b[A\nDl Completed...:   0%|          | 0/1 [00:01<?, ? url/s]\nDl Size...:   1%|▏         | 1/80 [00:01<02:35,  1.97s/ MiB]\u001b[A\nDl Completed...:   0%|          | 0/1 [00:03<?, ? url/s]\nDl Size...:   2%|▎         | 2/80 [00:03<02:16,  1.76s/ MiB]\u001b[A\nDl Completed...:   0%|          | 0/1 [00:04<?, ? url/s]\nDl Size...:   4%|▍         | 3/80 [00:04<02:02,  1.59s/ MiB]\u001b[A\nDl Completed...:   0%|          | 0/1 [00:05<?, ? url/s]\nDl Size...:   5%|▌         | 4/80 [00:05<01:52,  1.48s/ MiB]\u001b[A\nDl Completed...:   0%|          | 0/1 [00:07<?, ? url/s]\nDl Size...:   6%|▋         | 5/80 [00:07<01:54,  1.52s/ MiB]\u001b[A\nDl Completed...:   0%|          | 0/1 [00:08<?, ? url/s]\nDl Size...:   8%|▊         | 6/80 [00:08<01:51,  1.51s/ MiB]\u001b[A\nDl Completed...:   0%|          | 0/1 [00:10<?, ? url/s]\nDl Size...:   9%|▉         | 7/80 [00:10<01:50,  1.52s/ MiB]\u001b[A\nDl Completed...:   0%|          | 0/1 [00:12<?, ? url/s]\nDl Size...:  10%|█         | 8/80 [00:12<02:11,  1.82s/ MiB]\u001b[A\nDl Completed...:   0%|          | 0/1 [00:16<?, ? url/s]\nDl Size...:  11%|█▏        | 9/80 [00:16<02:51,  2.42s/ MiB]\u001b[A\nDl Completed...:   0%|          | 0/1 [00:19<?, ? url/s]\nDl Size...:  12%|█▎        | 10/80 [00:19<03:08,  2.70s/ MiB]\u001b[A\nDl Completed...:   0%|          | 0/1 [00:21<?, ? url/s]\nDl Size...:  14%|█▍        | 11/80 [00:21<02:45,  2.40s/ MiB]\u001b[A\nDl Completed...:   0%|          | 0/1 [00:23<?, ? url/s]\nDl Size...:  15%|█▌        | 12/80 [00:23<02:35,  2.28s/ MiB]\u001b[A\nDl Completed...:   0%|          | 0/1 [00:28<?, ? url/s]\nDl Size...:  16%|█▋        | 13/80 [00:28<03:14,  2.90s/ MiB]\u001b[A\nDl Completed...:   0%|          | 0/1 [00:31<?, ? url/s]\nDl Size...:  18%|█▊        | 14/80 [00:31<03:17,  2.99s/ MiB]\u001b[A\nDl Completed...:   0%|          | 0/1 [00:32<?, ? url/s]\nDl Size...:  19%|█▉        | 15/80 [00:32<02:44,  2.54s/ MiB]\u001b[A\nDl Completed...:   0%|          | 0/1 [00:33<?, ? url/s]\nDl Size...:  20%|██        | 16/80 [00:33<02:12,  2.07s/ MiB]\u001b[A\nDl Completed...:   0%|          | 0/1 [00:35<?, ? url/s]\nDl Size...:  21%|██▏       | 17/80 [00:35<01:58,  1.88s/ MiB]\u001b[A\nDl Completed...:   0%|          | 0/1 [00:36<?, ? url/s]\nDl Size...:  22%|██▎       | 18/80 [00:36<01:40,  1.62s/ MiB]\u001b[A\nDl Completed...:   0%|          | 0/1 [00:37<?, ? url/s]\nDl Size...:  24%|██▍       | 19/80 [00:37<01:40,  1.65s/ MiB]\u001b[A\nDl Completed...:   0%|          | 0/1 [00:39<?, ? url/s]\nDl Size...:  25%|██▌       | 20/80 [00:39<01:37,  1.63s/ MiB]\u001b[A\nDl Completed...:   0%|          | 0/1 [00:40<?, ? url/s]\nDl Size...:  26%|██▋       | 21/80 [00:40<01:34,  1.60s/ MiB]\u001b[A\nDl Completed...:   0%|          | 0/1 [00:42<?, ? url/s]\nDl Size...:  28%|██▊       | 22/80 [00:42<01:30,  1.56s/ MiB]\u001b[A\nDl Completed...:   0%|          | 0/1 [00:43<?, ? url/s]\nDl Size...:  29%|██▉       | 23/80 [00:43<01:23,  1.46s/ MiB]\u001b[A\nDl Completed...:   0%|          | 0/1 [00:44<?, ? url/s]\nDl Size...:  30%|███       | 24/80 [00:44<01:18,  1.40s/ MiB]\u001b[A\nDl Completed...:   0%|          | 0/1 [00:46<?, ? url/s]\nDl Size...:  31%|███▏      | 25/80 [00:46<01:23,  1.53s/ MiB]\u001b[A\nDl Completed...:   0%|          | 0/1 [00:48<?, ? url/s]\nDl Size...:  32%|███▎      | 26/80 [00:48<01:23,  1.55s/ MiB]\u001b[A\nDl Completed...:   0%|          | 0/1 [00:50<?, ? url/s]\nDl Size...:  34%|███▍      | 27/80 [00:50<01:24,  1.59s/ MiB]\u001b[A\nDl Completed...:   0%|          | 0/1 [00:51<?, ? url/s]\nDl Size...:  35%|███▌      | 28/80 [00:51<01:20,  1.55s/ MiB]\u001b[A\nDl Completed...:   0%|          | 0/1 [00:52<?, ? url/s]\nDl Size...:  36%|███▋      | 29/80 [00:52<01:15,  1.49s/ MiB]\u001b[A\nDl Completed...:   0%|          | 0/1 [00:54<?, ? url/s]\nDl Size...:  38%|███▊      | 30/80 [00:54<01:13,  1.47s/ MiB]\u001b[A\nDl Completed...:   0%|          | 0/1 [00:55<?, ? url/s]\nDl Size...:  39%|███▉      | 31/80 [00:55<01:08,  1.39s/ MiB]\u001b[A\nDl Completed...:   0%|          | 0/1 [00:57<?, ? url/s]\nDl Size...:  40%|████      | 32/80 [00:57<01:08,  1.44s/ MiB]\u001b[A\nDl Completed...:   0%|          | 0/1 [00:58<?, ? url/s]\nDl Size...:  41%|████▏     | 33/80 [00:58<01:07,  1.43s/ MiB]\u001b[A\nDl Completed...:   0%|          | 0/1 [00:59<?, ? url/s]\nDl Size...:  42%|████▎     | 34/80 [00:59<01:06,  1.45s/ MiB]\u001b[A\nDl Completed...:   0%|          | 0/1 [01:01<?, ? url/s]\nDl Size...:  44%|████▍     | 35/80 [01:01<01:03,  1.41s/ MiB]\u001b[A\nDl Completed...:   0%|          | 0/1 [01:02<?, ? url/s]\nDl Size...:  45%|████▌     | 36/80 [01:02<01:05,  1.48s/ MiB]\u001b[A\nDl Completed...:   0%|          | 0/1 [01:04<?, ? url/s]\nDl Size...:  46%|████▋     | 37/80 [01:04<01:03,  1.47s/ MiB]\u001b[A\nDl Completed...:   0%|          | 0/1 [01:05<?, ? url/s]\nDl Size...:  48%|████▊     | 38/80 [01:05<01:04,  1.52s/ MiB]\u001b[A\nDl Completed...:   0%|          | 0/1 [01:07<?, ? url/s]\nDl Size...:  49%|████▉     | 39/80 [01:07<01:01,  1.51s/ MiB]\u001b[A\nDl Completed...:   0%|          | 0/1 [01:09<?, ? url/s]\nDl Size...:  50%|█████     | 40/80 [01:09<01:00,  1.52s/ MiB]\u001b[A\nDl Completed...:   0%|          | 0/1 [01:10<?, ? url/s]\nDl Size...:  51%|█████▏    | 41/80 [01:10<00:58,  1.51s/ MiB]\u001b[A\nDl Completed...:   0%|          | 0/1 [01:11<?, ? url/s]\nDl Size...:  52%|█████▎    | 42/80 [01:11<00:54,  1.43s/ MiB]\u001b[A\nDl Completed...:   0%|          | 0/1 [01:13<?, ? url/s]\nDl Size...:  54%|█████▍    | 43/80 [01:13<00:53,  1.46s/ MiB]\u001b[A\nDl Completed...:   0%|          | 0/1 [01:14<?, ? url/s]\nDl Size...:  55%|█████▌    | 44/80 [01:14<00:53,  1.49s/ MiB]\u001b[A\nDl Completed...:   0%|          | 0/1 [01:16<?, ? url/s]\nDl Size...:  56%|█████▋    | 45/80 [01:16<00:51,  1.48s/ MiB]\u001b[A\nDl Completed...:   0%|          | 0/1 [01:17<?, ? url/s]\nDl Size...:  57%|█████▊    | 46/80 [01:17<00:51,  1.50s/ MiB]\u001b[A\nDl Completed...:   0%|          | 0/1 [01:19<?, ? url/s]\nDl Size...:  59%|█████▉    | 47/80 [01:19<00:49,  1.50s/ MiB]\u001b[A\nDl Completed...:   0%|          | 0/1 [01:20<?, ? url/s]\nDl Size...:  60%|██████    | 48/80 [01:20<00:47,  1.47s/ MiB]\u001b[A\nDl Completed...:   0%|          | 0/1 [01:22<?, ? url/s]\nDl Size...:  61%|██████▏   | 49/80 [01:22<00:45,  1.46s/ MiB]\u001b[A\nDl Completed...:   0%|          | 0/1 [01:23<?, ? url/s]\nDl Size...:  62%|██████▎   | 50/80 [01:23<00:43,  1.45s/ MiB]\u001b[A\nDl Completed...:   0%|          | 0/1 [01:25<?, ? url/s]\nDl Size...:  64%|██████▍   | 51/80 [01:25<00:43,  1.51s/ MiB]\u001b[A\nDl Completed...:   0%|          | 0/1 [01:26<?, ? url/s]\nDl Size...:  65%|██████▌   | 52/80 [01:26<00:42,  1.51s/ MiB]\u001b[A\nDl Completed...:   0%|          | 0/1 [01:28<?, ? url/s]\nDl Size...:  66%|██████▋   | 53/80 [01:28<00:40,  1.49s/ MiB]\u001b[A\nDl Completed...:   0%|          | 0/1 [01:31<?, ? url/s]\nDl Size...:  68%|██████▊   | 54/80 [01:31<00:49,  1.91s/ MiB]\u001b[A\nDl Completed...:   0%|          | 0/1 [01:34<?, ? url/s]\nDl Size...:  69%|██████▉   | 55/80 [01:34<00:58,  2.34s/ MiB]\u001b[A\nDl Completed...:   0%|          | 0/1 [01:36<?, ? url/s]\nDl Size...:  70%|███████   | 56/80 [01:36<00:56,  2.36s/ MiB]\u001b[A\nDl Completed...:   0%|          | 0/1 [01:38<?, ? url/s]\nDl Size...:  71%|███████▏  | 57/80 [01:38<00:47,  2.07s/ MiB]\u001b[A\nDl Completed...:   0%|          | 0/1 [01:40<?, ? url/s]\nDl Size...:  72%|███████▎  | 58/80 [01:40<00:49,  2.24s/ MiB]\u001b[A\nDl Completed...:   0%|          | 0/1 [01:41<?, ? url/s]\nDl Size...:  74%|███████▍  | 59/80 [01:41<00:38,  1.84s/ MiB]\u001b[A\nDl Completed...:   0%|          | 0/1 [01:42<?, ? url/s]\nDl Size...:  75%|███████▌  | 60/80 [01:42<00:32,  1.65s/ MiB]\u001b[A\nDl Completed...:   0%|          | 0/1 [01:44<?, ? url/s]\nDl Size...:  76%|███████▋  | 61/80 [01:44<00:29,  1.58s/ MiB]\u001b[A\nDl Completed...:   0%|          | 0/1 [01:46<?, ? url/s]\nDl Size...:  78%|███████▊  | 62/80 [01:46<00:33,  1.83s/ MiB]\u001b[A\nDl Completed...:   0%|          | 0/1 [01:48<?, ? url/s]\nDl Size...:  79%|███████▉  | 63/80 [01:48<00:32,  1.91s/ MiB]\u001b[A\nDl Completed...:   0%|          | 0/1 [01:51<?, ? url/s]\nDl Size...:  80%|████████  | 64/80 [01:51<00:32,  2.02s/ MiB]\u001b[A\nDl Completed...:   0%|          | 0/1 [01:52<?, ? url/s]\nDl Size...:  81%|████████▏ | 65/80 [01:52<00:28,  1.89s/ MiB]\u001b[A\nDl Completed...:   0%|          | 0/1 [01:54<?, ? url/s]\nDl Size...:  82%|████████▎ | 66/80 [01:54<00:24,  1.74s/ MiB]\u001b[A\nDl Completed...:   0%|          | 0/1 [01:55<?, ? url/s]\nDl Size...:  84%|████████▍ | 67/80 [01:55<00:19,  1.48s/ MiB]\u001b[A\nDl Completed...:   0%|          | 0/1 [01:56<?, ? url/s]\nDl Size...:  85%|████████▌ | 68/80 [01:56<00:17,  1.45s/ MiB]\u001b[A\nDl Completed...:   0%|          | 0/1 [01:57<?, ? url/s]\nDl Size...:  86%|████████▋ | 69/80 [01:57<00:16,  1.49s/ MiB]\u001b[A\nDl Completed...:   0%|          | 0/1 [01:59<?, ? url/s]\nDl Size...:  88%|████████▊ | 70/80 [01:59<00:15,  1.51s/ MiB]\u001b[A\nDl Completed...:   0%|          | 0/1 [02:00<?, ? url/s]\nDl Size...:  89%|████████▉ | 71/80 [02:00<00:13,  1.48s/ MiB]\u001b[A\nDl Completed...:   0%|          | 0/1 [02:02<?, ? url/s]\nDl Size...:  90%|█████████ | 72/80 [02:02<00:11,  1.49s/ MiB]\u001b[A\nDl Completed...:   0%|          | 0/1 [02:03<?, ? url/s]\nDl Size...:  91%|█████████▏| 73/80 [02:03<00:10,  1.46s/ MiB]\u001b[A\nDl Completed...:   0%|          | 0/1 [02:05<?, ? url/s]\nDl Size...:  92%|█████████▎| 74/80 [02:05<00:08,  1.49s/ MiB]\u001b[A\nDl Completed...:   0%|          | 0/1 [02:06<?, ? url/s]\nDl Size...:  94%|█████████▍| 75/80 [02:06<00:07,  1.42s/ MiB]\u001b[A\nDl Completed...:   0%|          | 0/1 [02:08<?, ? url/s]\nDl Size...:  95%|█████████▌| 76/80 [02:08<00:05,  1.47s/ MiB]\u001b[A\nDl Completed...:   0%|          | 0/1 [02:09<?, ? url/s]\nDl Size...:  96%|█████████▋| 77/80 [02:09<00:04,  1.49s/ MiB]\u001b[A\nDl Completed...:   0%|          | 0/1 [02:11<?, ? url/s]\nDl Size...:  98%|█████████▊| 78/80 [02:11<00:02,  1.50s/ MiB]\u001b[A\nDl Completed...:   0%|          | 0/1 [02:12<?, ? url/s]\nDl Size...:  99%|█████████▉| 79/80 [02:12<00:01,  1.48s/ MiB]\u001b[A\nDl Completed...:   0%|          | 0/1 [02:14<?, ? url/s]\nDl Completed...: 100%|██████████| 1/1 [02:14<00:00, 134.45s/ url]\nDl Size...: 100%|██████████| 80/80 [02:14<00:00,  1.68s/ MiB]\nDl Completed...: 100%|██████████| 1/1 [02:14<00:00, 134.47s/ url]\n0 examples [00:00, ? examples/s]\n\n 23%|██▎       | 5838/25000 [00:00<00:00, 58078.19 examples/s]Shuffling and writing examples to C:\\Users\\micha\\tensorflow_datasets\\imdb_reviews\\plain_text\\1.0.0.incompleteYON42A\\imdb_reviews-train.tfrecord\n 24%|██▎       | 5922/25000 [00:00<00:00, 58912.87 examples/s]Shuffling and writing examples to C:\\Users\\micha\\tensorflow_datasets\\imdb_reviews\\plain_text\\1.0.0.incompleteYON42A\\imdb_reviews-test.tfrecord\n  9%|▉         | 4590/50000 [00:00<00:00, 45655.35 examples/s]Shuffling and writing examples to C:\\Users\\micha\\tensorflow_datasets\\imdb_reviews\\plain_text\\1.0.0.incompleteYON42A\\imdb_reviews-unsupervised.tfrecord\n100%|█████████▉| 49908/50000 [00:00<00:00, 69560.34 examples/s]\u001b[1mDataset imdb_reviews downloaded and prepared to C:\\Users\\micha\\tensorflow_datasets\\imdb_reviews\\plain_text\\1.0.0. Subsequent calls will reuse this data.\u001b[0m\n"
    }
   ],
   "source": [
    "train_data, validation_data, test_data = tfds.load(\n",
    "    name=\"imdb_reviews\", \n",
    "    split=('train[:60%]', 'train[60%:]', 'test'),\n",
    "    as_supervised=True\n",
    ")"
   ]
  },
  {
   "cell_type": "code",
   "execution_count": 11,
   "metadata": {},
   "outputs": [
    {
     "output_type": "execute_result",
     "data": {
      "text/plain": "<tf.Tensor: shape=(3, 20), dtype=float32, numpy=\narray([[ 1.765786  , -3.882232  ,  3.9134233 , -1.5557289 , -3.3362343 ,\n        -1.7357955 , -1.9954445 ,  1.2989551 ,  5.081598  , -1.1041286 ,\n        -2.0503852 , -0.72675157, -0.65675956,  0.24436149, -3.7208383 ,\n         2.0954835 ,  2.2969332 , -2.0689783 , -2.9489717 , -1.1315987 ],\n       [ 1.8804485 , -2.5852382 ,  3.4066997 ,  1.0982676 , -4.056685  ,\n        -4.891284  , -2.785554  ,  1.3874227 ,  3.8476458 , -0.9256538 ,\n        -1.896706  ,  1.2113281 ,  0.11474707,  0.76209456, -4.8791065 ,\n         2.906149  ,  4.7087674 , -2.3652055 , -3.5015898 , -1.6390051 ],\n       [ 0.71152234, -0.6353217 ,  1.7385626 , -1.1168286 , -0.5451594 ,\n        -1.1808156 ,  0.09504455,  1.4653089 ,  0.66059524,  0.79308075,\n        -2.2268345 ,  0.07446612, -1.4075904 , -0.70645386, -1.907037  ,\n         1.4419787 ,  1.9551861 , -0.42660055, -2.8022065 ,  0.43727064]],\n      dtype=float32)>"
     },
     "metadata": {},
     "execution_count": 11
    }
   ],
   "source": [
    "hub_layer = hub.KerasLayer(\n",
    "    \"https://tfhub.dev/google/tf2-preview/gnews-swivel-20dim/1\", \n",
    "    input_shape=[], \n",
    "    dtype=tf.string, \n",
    "    trainable=True\n",
    ")\n",
    "\n",
    "hub_layer(train_examples_batch[:3])"
   ]
  },
  {
   "cell_type": "code",
   "execution_count": 12,
   "metadata": {},
   "outputs": [
    {
     "output_type": "stream",
     "name": "stdout",
     "text": "Model: \"sequential\"\n_________________________________________________________________\nLayer (type)                 Output Shape              Param #   \n=================================================================\nkeras_layer (KerasLayer)     (None, 20)                400020    \n_________________________________________________________________\ndense (Dense)                (None, 16)                336       \n_________________________________________________________________\ndense_1 (Dense)              (None, 1)                 17        \n=================================================================\nTotal params: 400,373\nTrainable params: 400,373\nNon-trainable params: 0\n_________________________________________________________________\n"
    }
   ],
   "source": [
    "model = tf.keras.Sequential()\n",
    "model.add(hub_layer)\n",
    "model.add(tf.keras.layers.Dense(16, activation='relu'))\n",
    "model.add(tf.keras.layers.Dense(1))\n",
    "\n",
    "model.summary()"
   ]
  },
  {
   "cell_type": "code",
   "execution_count": 13,
   "metadata": {},
   "outputs": [],
   "source": [
    "model.compile(\n",
    "    optimizer='adam',\n",
    "    loss=tf.keras.losses.BinaryCrossentropy(from_logits=True),\n",
    "    metrics=['accuracy']\n",
    ")"
   ]
  },
  {
   "cell_type": "code",
   "execution_count": 14,
   "metadata": {},
   "outputs": [
    {
     "output_type": "stream",
     "name": "stdout",
     "text": "Epoch 1/20\n30/30 [==============================] - 2s 77ms/step - loss: 0.7045 - accuracy: 0.5999 - val_loss: 0.6333 - val_accuracy: 0.6325\nEpoch 2/20\n30/30 [==============================] - 2s 67ms/step - loss: 0.6037 - accuracy: 0.6635 - val_loss: 0.5843 - val_accuracy: 0.6733\nEpoch 3/20\n30/30 [==============================] - 2s 70ms/step - loss: 0.5624 - accuracy: 0.6944 - val_loss: 0.5532 - val_accuracy: 0.7037\nEpoch 4/20\n30/30 [==============================] - 2s 65ms/step - loss: 0.5291 - accuracy: 0.7213 - val_loss: 0.5255 - val_accuracy: 0.7262\nEpoch 5/20\n30/30 [==============================] - 2s 67ms/step - loss: 0.4984 - accuracy: 0.7467 - val_loss: 0.5022 - val_accuracy: 0.7314\nEpoch 6/20\n30/30 [==============================] - 2s 65ms/step - loss: 0.4678 - accuracy: 0.7685 - val_loss: 0.4751 - val_accuracy: 0.7665\nEpoch 7/20\n30/30 [==============================] - 2s 66ms/step - loss: 0.4371 - accuracy: 0.7892 - val_loss: 0.4543 - val_accuracy: 0.7897\nEpoch 8/20\n30/30 [==============================] - 2s 67ms/step - loss: 0.4086 - accuracy: 0.8060 - val_loss: 0.4277 - val_accuracy: 0.7916\nEpoch 9/20\n30/30 [==============================] - 2s 68ms/step - loss: 0.3792 - accuracy: 0.8268 - val_loss: 0.4070 - val_accuracy: 0.8028\nEpoch 10/20\n30/30 [==============================] - 2s 67ms/step - loss: 0.3501 - accuracy: 0.8455 - val_loss: 0.3874 - val_accuracy: 0.8170\nEpoch 11/20\n30/30 [==============================] - 2s 67ms/step - loss: 0.3249 - accuracy: 0.8569 - val_loss: 0.3707 - val_accuracy: 0.8264\nEpoch 12/20\n30/30 [==============================] - 2s 69ms/step - loss: 0.3000 - accuracy: 0.8730 - val_loss: 0.3562 - val_accuracy: 0.8406\nEpoch 13/20\n30/30 [==============================] - 2s 70ms/step - loss: 0.2778 - accuracy: 0.8830 - val_loss: 0.3439 - val_accuracy: 0.8439\nEpoch 14/20\n30/30 [==============================] - 2s 66ms/step - loss: 0.2583 - accuracy: 0.8943 - val_loss: 0.3372 - val_accuracy: 0.8402\nEpoch 15/20\n30/30 [==============================] - 2s 69ms/step - loss: 0.2409 - accuracy: 0.9029 - val_loss: 0.3267 - val_accuracy: 0.8576\nEpoch 16/20\n30/30 [==============================] - 2s 68ms/step - loss: 0.2247 - accuracy: 0.9115 - val_loss: 0.3245 - val_accuracy: 0.8644\nEpoch 17/20\n30/30 [==============================] - 2s 67ms/step - loss: 0.2099 - accuracy: 0.9187 - val_loss: 0.3177 - val_accuracy: 0.8659\nEpoch 18/20\n30/30 [==============================] - 2s 66ms/step - loss: 0.1960 - accuracy: 0.9263 - val_loss: 0.3130 - val_accuracy: 0.8604\nEpoch 19/20\n30/30 [==============================] - 2s 67ms/step - loss: 0.1833 - accuracy: 0.9323 - val_loss: 0.3098 - val_accuracy: 0.8657\nEpoch 20/20\n30/30 [==============================] - 2s 65ms/step - loss: 0.1717 - accuracy: 0.9377 - val_loss: 0.3086 - val_accuracy: 0.8683\n"
    }
   ],
   "source": [
    "history = model.fit(\n",
    "    train_data.shuffle(10000).batch(512),\n",
    "    epochs=20,\n",
    "    validation_data=validation_data.batch(512),\n",
    "    verbose=1\n",
    ")"
   ]
  },
  {
   "cell_type": "code",
   "execution_count": 15,
   "metadata": {},
   "outputs": [
    {
     "output_type": "stream",
     "name": "stdout",
     "text": "49/49 - 2s - loss: 0.3208 - accuracy: 0.8582\nloss: 0.321\naccuracy: 0.858\n"
    }
   ],
   "source": [
    "results = model.evaluate(test_data.batch(512), verbose=2)\n",
    "\n",
    "for name, value in zip(model.metrics_names, results):\n",
    "    print(\"%s: %.3f\" % (name, value))"
   ]
  },
  {
   "cell_type": "code",
   "execution_count": null,
   "metadata": {},
   "outputs": [],
   "source": []
  }
 ],
 "metadata": {
  "language_info": {
   "codemirror_mode": {
    "name": "ipython",
    "version": 3
   },
   "file_extension": ".py",
   "mimetype": "text/x-python",
   "name": "python",
   "nbconvert_exporter": "python",
   "pygments_lexer": "ipython3",
   "version": "3.8.3-final"
  },
  "orig_nbformat": 2,
  "kernelspec": {
   "name": "python38364bit1a75a2bcd6cc47bb9592aa3194496314",
   "display_name": "Python 3.8.3 64-bit"
  }
 },
 "nbformat": 4,
 "nbformat_minor": 2
}